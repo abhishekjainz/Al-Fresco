{
 "cells": [
  {
   "cell_type": "markdown",
   "metadata": {},
   "source": [
    "## Imports"
   ]
  },
  {
   "cell_type": "code",
   "execution_count": 1,
   "metadata": {},
   "outputs": [
    {
     "data": {
      "text/html": [
       "        <script type=\"text/javascript\">\n",
       "        window.PlotlyConfig = {MathJaxConfig: 'local'};\n",
       "        if (window.MathJax) {MathJax.Hub.Config({SVG: {font: \"STIX-Web\"}});}\n",
       "        if (typeof require !== 'undefined') {\n",
       "        require.undef(\"plotly\");\n",
       "        requirejs.config({\n",
       "            paths: {\n",
       "                'plotly': ['https://cdn.plot.ly/plotly-2.8.3.min']\n",
       "            }\n",
       "        });\n",
       "        require(['plotly'], function(Plotly) {\n",
       "            window._Plotly = Plotly;\n",
       "        });\n",
       "        }\n",
       "        </script>\n",
       "        "
      ]
     },
     "metadata": {},
     "output_type": "display_data"
    }
   ],
   "source": [
    "import matplotlib.pyplot as plt\n",
    "import seaborn as sns\n",
    "color = sns.color_palette()\n",
    "%matplotlib inline\n",
    "import plotly.offline as py\n",
    "py.init_notebook_mode(connected=True)\n",
    "import plotly.graph_objs as go\n",
    "import plotly.tools as tls\n",
    "import plotly.express as px\n",
    "from selenium import webdriver\n",
    "from bs4 import BeautifulSoup\n",
    "from selenium.webdriver.common.by import By\n",
    "import time"
   ]
  },
  {
   "cell_type": "markdown",
   "metadata": {},
   "source": [
    "User inputs a search term"
   ]
  },
  {
   "cell_type": "code",
   "execution_count": 2,
   "metadata": {},
   "outputs": [],
   "source": [
    "driver = webdriver.Chrome()\n",
    "\n",
    "keywords = 'bar bar black sheep nus'\n",
    "keywords.replace(\" \", \"+\")\n",
    "\n",
    "url = 'https://www.google.com/maps/search/' + keywords + '+singapore'\n",
    "driver.get(url)"
   ]
  },
  {
   "cell_type": "code",
   "execution_count": 3,
   "metadata": {},
   "outputs": [],
   "source": [
    "# driver.find_element(By.XPATH,'//*[@id=\"pane\"]/div/div[1]/div/div/div[' + str(a) + ']/div/button')\n",
    "# time.sleep(5)"
   ]
  },
  {
   "cell_type": "code",
   "execution_count": 4,
   "metadata": {},
   "outputs": [],
   "source": [
    "from selenium.common.exceptions import NoSuchElementException \n",
    "from selenium.webdriver.support.ui import WebDriverWait\n",
    "\n",
    "def check_exists_by_xpath(xpath):\n",
    "    try:\n",
    "        wait = WebDriverWait(driver, 5)\n",
    "        driver.find_element(By.XPATH, xpath)\n",
    "    except NoSuchElementException:\n",
    "        return False\n",
    "    return True\n",
    "\n",
    "# xpath = '//*[@id=\"pane\"]/div/div[1]/div/div/div[38]/div/button'\n",
    "# driver.find_element(By.XPATH, xpath).click()\n",
    "\n",
    "for i in range(37, 43):\n",
    "    xpath = '//*[@id=\"pane\"]/div/div[1]/div/div/div['+str(i)+']/div/button'\n",
    "    # xpath = '//*[@id=\"pane\"]/div/div[1]/div/div/div[38]/div/button'\n",
    "    \n",
    "    if check_exists_by_xpath(xpath) == True:\n",
    "        # driver.find_element_by_xpath(xpath).click()\n",
    "        driver.find_element(By.XPATH, xpath).click()\n",
    "        \n",
    "        break\n",
    "    else:\n",
    "        continue\n",
    "time.sleep(3)"
   ]
  },
  {
   "cell_type": "code",
   "execution_count": 5,
   "metadata": {},
   "outputs": [
    {
     "name": "stderr",
     "output_type": "stream",
     "text": [
      "<ipython-input-5-31db701e48bc>:2: DeprecationWarning:\n",
      "\n",
      "find_element_by_* commands are deprecated. Please use find_element() instead\n",
      "\n"
     ]
    }
   ],
   "source": [
    "#Find scroll layout\n",
    "scrollable_div = driver.find_element_by_xpath('//*[@id=\"pane\"]/div/div[1]/div/div/div[2]')\n",
    "\n",
    "#Scroll as many times as necessary to load all reviews\n",
    "for i in range(0,21):\n",
    "        driver.execute_script('arguments[0].scrollTop = arguments[0].scrollHeight', scrollable_div)\n",
    "        time.sleep(1)"
   ]
  },
  {
   "cell_type": "code",
   "execution_count": 6,
   "metadata": {},
   "outputs": [],
   "source": [
    "from parsel import Selector\n",
    "\n",
    "page_content = driver.page_source\n",
    "response = Selector(page_content)\n",
    "\n",
    "results = []\n",
    "\n",
    "for el in response.xpath('//div/div[@data-review-id]/div[contains(@class, \"content\")]'):\n",
    "    results.append({\n",
    "        'title': el.xpath('.//div[contains(@class, \"title\")]/span/text()').extract_first(''),\n",
    "        'rating': el.xpath('.//span[contains(@aria-label, \"stars\")]/@aria-label').extract_first('').replace('stars' ,'').strip(),\n",
    "        'body': el.xpath('.//span[contains(@class, \"text\")]/text()').extract_first(''),\n",
    "    })\n",
    "\n",
    "#print(results)"
   ]
  },
  {
   "cell_type": "code",
   "execution_count": 7,
   "metadata": {},
   "outputs": [
    {
     "data": {
      "text/html": [
       "<div>\n",
       "<style scoped>\n",
       "    .dataframe tbody tr th:only-of-type {\n",
       "        vertical-align: middle;\n",
       "    }\n",
       "\n",
       "    .dataframe tbody tr th {\n",
       "        vertical-align: top;\n",
       "    }\n",
       "\n",
       "    .dataframe thead th {\n",
       "        text-align: right;\n",
       "    }\n",
       "</style>\n",
       "<table border=\"1\" class=\"dataframe\">\n",
       "  <thead>\n",
       "    <tr style=\"text-align: right;\">\n",
       "      <th></th>\n",
       "      <th>title</th>\n",
       "      <th>rating</th>\n",
       "      <th>body</th>\n",
       "    </tr>\n",
       "  </thead>\n",
       "  <tbody>\n",
       "    <tr>\n",
       "      <th>0</th>\n",
       "      <td>BOB LEE</td>\n",
       "      <td>5.0</td>\n",
       "      <td>Good vibe! Nice place to have a tasty meal! Wi...</td>\n",
       "    </tr>\n",
       "    <tr>\n",
       "      <th>1</th>\n",
       "      <td>Maybelline Ooi Sim Leng</td>\n",
       "      <td>5.0</td>\n",
       "      <td>Chef Ae &amp; Elsie made us feel so at home being ...</td>\n",
       "    </tr>\n",
       "    <tr>\n",
       "      <th>2</th>\n",
       "      <td>bill jova</td>\n",
       "      <td>5.0</td>\n",
       "      <td>Nice place for after work, relax Soul and stom...</td>\n",
       "    </tr>\n",
       "    <tr>\n",
       "      <th>3</th>\n",
       "      <td>ally eric</td>\n",
       "      <td>5.0</td>\n",
       "      <td>Shared a bottle of Four Pillars with some frie...</td>\n",
       "    </tr>\n",
       "    <tr>\n",
       "      <th>4</th>\n",
       "      <td>Alan K (AK)</td>\n",
       "      <td>5.0</td>\n",
       "      <td>Great spot for a quick beer or two. Didn't hav...</td>\n",
       "    </tr>\n",
       "  </tbody>\n",
       "</table>\n",
       "</div>"
      ],
      "text/plain": [
       "                     title  rating  \\\n",
       "0                  BOB LEE     5.0   \n",
       "1  Maybelline Ooi Sim Leng     5.0   \n",
       "2                bill jova     5.0   \n",
       "3                ally eric     5.0   \n",
       "4              Alan K (AK)     5.0   \n",
       "\n",
       "                                                body  \n",
       "0  Good vibe! Nice place to have a tasty meal! Wi...  \n",
       "1  Chef Ae & Elsie made us feel so at home being ...  \n",
       "2  Nice place for after work, relax Soul and stom...  \n",
       "3  Shared a bottle of Four Pillars with some frie...  \n",
       "4  Great spot for a quick beer or two. Didn't hav...  "
      ]
     },
     "execution_count": 7,
     "metadata": {},
     "output_type": "execute_result"
    }
   ],
   "source": [
    "import pandas as pd\n",
    "\n",
    "df = pd.DataFrame(results)\n",
    "df.dropna()\n",
    "df['rating'] = pd.to_numeric(df['rating'])\n",
    "df.head()"
   ]
  },
  {
   "cell_type": "code",
   "execution_count": 8,
   "metadata": {},
   "outputs": [],
   "source": [
    "import nltk\n",
    "from nltk.corpus import stopwords\n",
    "from wordcloud import WordCloud\n",
    "\n",
    "stopwords = set(stopwords.words('english'))\n",
    "stopwords.update([\"campus\", \"NUS\", \"MRT\", \"looks\", \"food\"])\n",
    "textt = \" \".join(review for review in df['body'])\n",
    "wordcloud = WordCloud(stopwords=stopwords).generate(textt)\n",
    "# plt.imshow(wordcloud, interpolation='bilinear')\n",
    "# plt.axis(\"off\")\n",
    "# plt.savefig('wordcloud11.png')\n",
    "# plt.show()"
   ]
  },
  {
   "cell_type": "code",
   "execution_count": 9,
   "metadata": {},
   "outputs": [],
   "source": [
    "# assign reviews with score > 3 as positive sentiment\n",
    "# score < 3 negative sentiment\n",
    "\n",
    "df['sentiment'] = df['rating'].apply(lambda score : +1 if score > 3.5 else -1)"
   ]
  },
  {
   "cell_type": "code",
   "execution_count": 10,
   "metadata": {},
   "outputs": [],
   "source": [
    "positive = df[df['sentiment'] == 1]\n",
    "negative = df[df['sentiment'] == -1]"
   ]
  },
  {
   "cell_type": "code",
   "execution_count": 11,
   "metadata": {},
   "outputs": [],
   "source": [
    "#stopwords = set(stopwords.words('english'))\n",
    "stopwords.update(['i', 'me', 'my', 'myself', 'we', 'our', 'ours', 'ourselves', 'you', \"you're\", \"you've\", \"you'll\", \"you'd\", 'your', 'yours', 'yourself', 'yourselves', 'he', 'him', 'his', 'himself', 'she', \"she's\", 'her', 'hers', 'herself', 'it', \"it's\", 'its', 'itself', 'they', 'them', 'their', 'theirs', 'themselves', 'what', 'which', 'who', 'whom', 'this', 'that', \"that'll\", 'these', 'those', 'am', 'is', 'are', 'was', 'were', 'be', 'been', 'being', 'have', 'has', 'had', 'having', 'do', 'does', 'did', 'doing', 'a', 'an', 'the', 'and', 'but', 'if', 'or', 'because', 'as', 'until', 'while', 'of', 'at', 'by', 'for', 'with', 'about', 'against', 'between', 'into', 'through', 'during', 'before', 'after', 'above', 'below', 'to', 'from', 'up', 'down', 'in', 'out', 'on', 'off', 'over', 'under', 'again', 'further', 'then', 'once', 'here', 'there', 'when', 'where', 'why', 'how', 'all', 'any', 'both', 'each', 'few', 'more', 'most', 'other', 'some', 'such', 'no', 'nor', 'not', 'only', 'own', 'same', 'so', 'than', 'too', 'very', 's', 't', 'can', 'will', 'just', 'don', \"don't\", 'should', \"should've\", 'now', 'd', 'll', 'm', 'o', 're', 've', 'y', 'ain', 'aren', \"aren't\", 'couldn', \"couldn't\", 'didn', \"didn't\", 'doesn', \"doesn't\", 'hadn', \"hadn't\", 'hasn', \"hasn't\", 'haven', \"haven't\", 'isn', \"isn't\", 'ma', 'mightn', \"mightn't\", 'mustn', \"mustn't\", 'needn', \"needn't\", 'shan', \"shan't\", 'shouldn', \"shouldn't\", 'wasn', \"wasn't\", 'weren', \"weren't\", 'won', \"won't\", 'wouldn', \"wouldn't\", \"...\", \"-\"]) \n",
    "\n",
    "pos = \" \".join(review for review in positive['body'])\n",
    "wordcloud2 = WordCloud(stopwords=stopwords).generate(pos)\n",
    "# plt.imshow(wordcloud2, interpolation='bilinear')\n",
    "# plt.axis(\"off\")\n",
    "# plt.show()"
   ]
  },
  {
   "cell_type": "code",
   "execution_count": 12,
   "metadata": {},
   "outputs": [],
   "source": [
    "pos = pos.split()\n",
    "for word in list(pos):  # iterating on a copy since removing will mess things up\n",
    "    if word in stopwords:\n",
    "        pos.remove(word)\n",
    "\n",
    "from collections import Counter\n",
    "counts = Counter(pos)"
   ]
  },
  {
   "cell_type": "code",
   "execution_count": 13,
   "metadata": {},
   "outputs": [
    {
     "data": {
      "text/plain": [
       "[('place', 11), ('Great', 10), ('Nice', 7), ('great', 7), ('good', 7)]"
      ]
     },
     "execution_count": 13,
     "metadata": {},
     "output_type": "execute_result"
    }
   ],
   "source": [
    "top_words = counts.most_common(5)\n",
    "top_words"
   ]
  },
  {
   "cell_type": "code",
   "execution_count": 14,
   "metadata": {},
   "outputs": [],
   "source": [
    "neg = \" \".join(review for review in negative['body'])\n",
    "wordcloud3 = WordCloud(stopwords=stopwords).generate(neg)\n",
    "# plt.imshow(wordcloud3, interpolation='bilinear')\n",
    "# plt.axis(\"off\")\n",
    "# plt.savefig('wordcloud33.png')\n",
    "# plt.show()"
   ]
  },
  {
   "cell_type": "code",
   "execution_count": 15,
   "metadata": {},
   "outputs": [],
   "source": [
    "df['sentiment'] = df['sentiment'].replace({-1 : 'negative'})\n",
    "df['sentiment'] = df['sentiment'].replace({1 : 'positive'})\n",
    "# fig = px.histogram(df, x=\"sentiment\")\n",
    "# fig.update_traces(marker_color=\"indianred\",marker_line_color='rgb(8,48,107)',\n",
    "#                   marker_line_width=1.5)\n",
    "# fig.update_layout(title_text='Product Sentiment')\n",
    "# fig.show()"
   ]
  },
  {
   "cell_type": "code",
   "execution_count": 16,
   "metadata": {},
   "outputs": [
    {
     "data": {
      "text/plain": [
       "73.77049180327869"
      ]
     },
     "execution_count": 16,
     "metadata": {},
     "output_type": "execute_result"
    }
   ],
   "source": [
    "score = df['sentiment'].value_counts()['positive'] / (df['sentiment'].value_counts()['negative'] + df['sentiment'].value_counts()['positive']) * 100\n",
    "score"
   ]
  }
 ],
 "metadata": {
  "kernelspec": {
   "display_name": "Python 3",
   "language": "python",
   "name": "python3"
  },
  "language_info": {
   "codemirror_mode": {
    "name": "ipython",
    "version": 3
   },
   "file_extension": ".py",
   "mimetype": "text/x-python",
   "name": "python",
   "nbconvert_exporter": "python",
   "pygments_lexer": "ipython3",
   "version": "3.8.3"
  }
 },
 "nbformat": 4,
 "nbformat_minor": 4
}
